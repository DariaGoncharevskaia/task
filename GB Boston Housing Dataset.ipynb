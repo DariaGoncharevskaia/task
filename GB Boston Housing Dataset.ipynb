{
 "cells": [
  {
   "cell_type": "code",
   "execution_count": 1,
   "id": "d6f336a7",
   "metadata": {},
   "outputs": [],
   "source": [
    "# Импорт библиотек\n",
    "import numpy as np\n",
    "import pandas as pd  \n",
    "\n",
    "\n",
    "from sklearn.ensemble import GradientBoostingRegressor\n",
    "from sklearn.datasets import load_boston\n",
    "from sklearn.model_selection import cross_val_score\n",
    "from sklearn.model_selection import train_test_split\n",
    "from sklearn.model_selection import KFold\n",
    "from sklearn.preprocessing import StandardScaler\n",
    "\n",
    "import warnings\n",
    "warnings.filterwarnings('ignore')"
   ]
  },
  {
   "cell_type": "code",
   "execution_count": 2,
   "id": "96deff0a",
   "metadata": {},
   "outputs": [
    {
     "name": "stdout",
     "output_type": "stream",
     "text": [
      "dict_keys(['data', 'target', 'feature_names', 'DESCR', 'filename', 'data_module'])\n"
     ]
    },
    {
     "data": {
      "text/plain": [
       "\".. _boston_dataset:\\n\\nBoston house prices dataset\\n---------------------------\\n\\n**Data Set Characteristics:**  \\n\\n    :Number of Instances: 506 \\n\\n    :Number of Attributes: 13 numeric/categorical predictive. Median Value (attribute 14) is usually the target.\\n\\n    :Attribute Information (in order):\\n        - CRIM     per capita crime rate by town\\n        - ZN       proportion of residential land zoned for lots over 25,000 sq.ft.\\n        - INDUS    proportion of non-retail business acres per town\\n        - CHAS     Charles River dummy variable (= 1 if tract bounds river; 0 otherwise)\\n        - NOX      nitric oxides concentration (parts per 10 million)\\n        - RM       average number of rooms per dwelling\\n        - AGE      proportion of owner-occupied units built prior to 1940\\n        - DIS      weighted distances to five Boston employment centres\\n        - RAD      index of accessibility to radial highways\\n        - TAX      full-value property-tax rate per $10,000\\n        - PTRATIO  pupil-teacher ratio by town\\n        - B        1000(Bk - 0.63)^2 where Bk is the proportion of black people by town\\n        - LSTAT    % lower status of the population\\n        - MEDV     Median value of owner-occupied homes in $1000's\\n\\n    :Missing Attribute Values: None\\n\\n    :Creator: Harrison, D. and Rubinfeld, D.L.\\n\\nThis is a copy of UCI ML housing dataset.\\nhttps://archive.ics.uci.edu/ml/machine-learning-databases/housing/\\n\\n\\nThis dataset was taken from the StatLib library which is maintained at Carnegie Mellon University.\\n\\nThe Boston house-price data of Harrison, D. and Rubinfeld, D.L. 'Hedonic\\nprices and the demand for clean air', J. Environ. Economics & Management,\\nvol.5, 81-102, 1978.   Used in Belsley, Kuh & Welsch, 'Regression diagnostics\\n...', Wiley, 1980.   N.B. Various transformations are used in the table on\\npages 244-261 of the latter.\\n\\nThe Boston house-price data has been used in many machine learning papers that address regression\\nproblems.   \\n     \\n.. topic:: References\\n\\n   - Belsley, Kuh & Welsch, 'Regression diagnostics: Identifying Influential Data and Sources of Collinearity', Wiley, 1980. 244-261.\\n   - Quinlan,R. (1993). Combining Instance-Based and Model-Based Learning. In Proceedings on the Tenth International Conference of Machine Learning, 236-243, University of Massachusetts, Amherst. Morgan Kaufmann.\\n\""
      ]
     },
     "execution_count": 2,
     "metadata": {},
     "output_type": "execute_result"
    }
   ],
   "source": [
    "# Загрузка данных\n",
    "boston_dataset = load_boston()\n",
    "\n",
    "print(boston_dataset.keys())\n",
    "boston_dataset.DESCR"
   ]
  },
  {
   "cell_type": "code",
   "execution_count": 3,
   "id": "d9e53bde",
   "metadata": {},
   "outputs": [],
   "source": [
    "X = boston_dataset.data # ‘data’ - многомерный массив 506 на 13\n",
    "Y = boston_dataset.target # ‘target’ - многомерный массив с маркером на каждую строку"
   ]
  },
  {
   "cell_type": "code",
   "execution_count": 4,
   "id": "b5ca5786",
   "metadata": {},
   "outputs": [],
   "source": [
    "# Разделение набора данных на тренировочные и тестовые части\n",
    "test_size = 0.2\n",
    "seed = 7\n",
    "X_train, X_test, Y_train, Y_test = train_test_split(X, Y, test_size=test_size, random_state=seed)"
   ]
  },
  {
   "cell_type": "markdown",
   "id": "fba65126",
   "metadata": {},
   "source": [
    "- X_train и Y_train - тренировочные наборы данных\n",
    "- X_test и Y_test – для расчета прогнозных значений. \n",
    "- Y_test не участвует в расчёте прогноза: с помощью метода ‘score’, подсчитаем правильные ответы с помощью метрики."
   ]
  },
  {
   "cell_type": "code",
   "execution_count": 5,
   "id": "4099dee2",
   "metadata": {},
   "outputs": [],
   "source": [
    "# Параметры оценивания\n",
    "num_folds = 10\n",
    "n_iter = 1000\n",
    "n_estimators = 100\n",
    "scoring = 'r2'# коэффициент детерминации - метрика для оценки: чем ближе к 1,00, тем выше качество"
   ]
  },
  {
   "cell_type": "markdown",
   "id": "5ae05bd8",
   "metadata": {},
   "source": [
    "### Проверка на исходных, необработанных данных"
   ]
  },
  {
   "cell_type": "code",
   "execution_count": 6,
   "id": "39f74a1f",
   "metadata": {},
   "outputs": [],
   "source": [
    "model = GradientBoostingRegressor(n_estimators=n_estimators)"
   ]
  },
  {
   "cell_type": "code",
   "execution_count": 7,
   "id": "2e247f6b",
   "metadata": {
    "scrolled": true
   },
   "outputs": [],
   "source": [
    "kfold = KFold(n_splits=num_folds)\n",
    "cv_results = cross_val_score(model, X_train, Y_train, cv=kfold, scoring=\n",
    "                                 scoring)\n",
    "    \n",
    "m_fit = model.fit(X_train, Y_train)\n",
    "m_predict = model.predict(X_test)\n",
    "m_score = model.score(X_test, Y_test)"
   ]
  },
  {
   "cell_type": "code",
   "execution_count": 8,
   "id": "c85dc7c7",
   "metadata": {},
   "outputs": [
    {
     "name": "stdout",
     "output_type": "stream",
     "text": [
      "GradientBoostingRegressor, необработанные данные\n",
      "Cредняя оценка 10-кратной перекрёстной проверки на тренировочных данных: 0.879\n",
      "Cреднее квадратичное отклонение:  0.04\n",
      "Значение метрики на тестовых данных test =  0.863\n"
     ]
    }
   ],
   "source": [
    "print(\"GradientBoostingRegressor, необработанные данные\")  \n",
    "print(\"Cредняя оценка 10-кратной перекрёстной проверки на тренировочных данных:\", round(cv_results.mean(), 3)) \n",
    "print(\"Cреднее квадратичное отклонение: \", round(cv_results.std(), 3)) \n",
    "print(\"Значение метрики на тестовых данных test = \", round(m_score, 3))"
   ]
  },
  {
   "cell_type": "markdown",
   "id": "ebcfc74e",
   "metadata": {},
   "source": [
    "### Проверка на стандартизованных данных"
   ]
  },
  {
   "cell_type": "code",
   "execution_count": 9,
   "id": "ca0c97ff",
   "metadata": {},
   "outputs": [],
   "source": [
    "# Стандартизация данных\n",
    "# Стандартизация значений характеристик\n",
    "std_x = StandardScaler()\n",
    "X_train_SS = std_x.fit_transform(X_train)\n",
    "X_test_SS = std_x.transform(X_test)\n",
    "\n",
    "# Стандартизация целевых значений\n",
    "std_y = StandardScaler()\n",
    "Y_train_SS = std_y.fit_transform(Y_train.reshape(-1, 1))\n",
    "Y_test_SS = std_y.transform(Y_test.reshape(-1, 1))"
   ]
  },
  {
   "cell_type": "code",
   "execution_count": 10,
   "id": "8ee7c2f1",
   "metadata": {},
   "outputs": [],
   "source": [
    "kfold = KFold(n_splits=num_folds)\n",
    "cv_results_SS = cross_val_score(model, X_train_SS, Y_train_SS, cv=kfold, scoring=\n",
    "                                 scoring)\n",
    "    \n",
    "m_fit_SS = model.fit(X_train_SS, Y_train_SS)\n",
    "m_predict_SS = model.predict(X_test_SS)\n",
    "m_score_SS = model.score(X_test_SS, Y_test_SS)"
   ]
  },
  {
   "cell_type": "code",
   "execution_count": 11,
   "id": "4259561a",
   "metadata": {},
   "outputs": [
    {
     "name": "stdout",
     "output_type": "stream",
     "text": [
      "GradientBoostingRegressor, стандартизованные данные\n",
      "Cредняя оценка 10-кратной перекрёстной проверки на тренировочных данных: 0.879\n",
      "Cреднее квадратичное отклонение:  0.04\n",
      "Значение метрики на тестовых данных test =  0.863\n"
     ]
    }
   ],
   "source": [
    "print(\"GradientBoostingRegressor, стандартизованные данные\")  \n",
    "print(\"Cредняя оценка 10-кратной перекрёстной проверки на тренировочных данных:\", round(cv_results_SS.mean(), 3)) \n",
    "print(\"Cреднее квадратичное отклонение: \", round(cv_results_SS.std(), 3)) \n",
    "print(\"Значение метрики на тестовых данных test = \", round(m_score_SS, 3))"
   ]
  },
  {
   "cell_type": "markdown",
   "id": "798d1797",
   "metadata": {},
   "source": [
    "Вывод: влияние предобработки на финальные показатели модели незначительно."
   ]
  }
 ],
 "metadata": {
  "kernelspec": {
   "display_name": "Python 3 (ipykernel)",
   "language": "python",
   "name": "python3"
  },
  "language_info": {
   "codemirror_mode": {
    "name": "ipython",
    "version": 3
   },
   "file_extension": ".py",
   "mimetype": "text/x-python",
   "name": "python",
   "nbconvert_exporter": "python",
   "pygments_lexer": "ipython3",
   "version": "3.10.2"
  }
 },
 "nbformat": 4,
 "nbformat_minor": 5
}
